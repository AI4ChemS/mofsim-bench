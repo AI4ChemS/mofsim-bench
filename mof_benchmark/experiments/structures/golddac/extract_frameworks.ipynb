{
 "cells": [
  {
   "cell_type": "markdown",
   "id": "6fb8e254-12a5-4a87-87cd-3eb653efcb44",
   "metadata": {},
   "source": [
    "# Get structures without inserted molecules"
   ]
  },
  {
   "cell_type": "code",
   "execution_count": null,
   "id": "d0955307-0813-42f3-978f-aac34d0a8ddf",
   "metadata": {},
   "outputs": [],
   "source": [
    "from ase.io import read, write\n",
    "import numpy as np\n",
    "import glob\n",
    "from ase.build import molecule"
   ]
  },
  {
   "cell_type": "code",
   "execution_count": null,
   "id": "e646e31a-0cc5-4e42-adae-7a41d7526239",
   "metadata": {},
   "outputs": [],
   "source": [
    "files = read(\"test.xyz\", \":\")"
   ]
  },
  {
   "cell_type": "code",
   "execution_count": null,
   "id": "a6f8cad7-8097-48de-b25a-cb4c170991fc",
   "metadata": {},
   "outputs": [],
   "source": [
    "for i, atoms in enumerate(files):\n",
    "    name = atoms.info[\"name\"]\n",
    "    write(f\"{name}.xyz\", atoms)\n",
    "\n",
    "    if i % 6 == 0:\n",
    "        framework = atoms[atoms.get_tags() == 0]\n",
    "        write(\"_\".join(name.split(\"_\")[:2]) + \".xyz\", framework)"
   ]
  },
  {
   "cell_type": "code",
   "execution_count": null,
   "id": "028c73e1-6b50-4c30-895c-811bf9a30fff",
   "metadata": {},
   "outputs": [],
   "source": [
    "H2O = molecule(\"H2O\")\n",
    "write(\"H2O.xyz\", H2O)\n",
    "CO2 = molecule(\"CO2\")\n",
    "write(\"CO2.xyz\", CO2)"
   ]
  },
  {
   "cell_type": "code",
   "execution_count": null,
   "id": "2a390425-0a7c-4d1f-8a43-53bf2272c52e",
   "metadata": {},
   "outputs": [],
   "source": []
  }
 ],
 "metadata": {
  "kernelspec": {
   "display_name": "Python (mof_benchmark)",
   "language": "python",
   "name": "mof_benchmark"
  },
  "language_info": {
   "codemirror_mode": {
    "name": "ipython",
    "version": 3
   },
   "file_extension": ".py",
   "mimetype": "text/x-python",
   "name": "python",
   "nbconvert_exporter": "python",
   "pygments_lexer": "ipython3",
   "version": "3.12.7"
  }
 },
 "nbformat": 4,
 "nbformat_minor": 5
}
